{
 "cells": [
  {
   "cell_type": "markdown",
   "metadata": {},
   "source": [
    "## Overlapped speech\n",
    "\n",
    "Sometimes the diarization can suffer when speakers are talking all at once. The below helps to identify these sections.\n",
    "\n",
    "See more tools at: https://github.com/pyannote/pyannote-audio/blob/develop/tutorials/overlapped_speech_detection.ipynb"
   ]
  },
  {
   "cell_type": "code",
   "execution_count": 1,
   "metadata": {},
   "outputs": [
    {
     "name": "stderr",
     "output_type": "stream",
     "text": [
      "/home/sam/anaconda3/envs/pyannote-audio/lib/python3.8/site-packages/tqdm/auto.py:21: TqdmWarning: IProgress not found. Please update jupyter and ipywidgets. See https://ipywidgets.readthedocs.io/en/stable/user_install.html\n",
      "  from .autonotebook import tqdm as notebook_tqdm\n",
      "torchvision is not available - cannot save figures\n",
      "Lightning automatically upgraded your loaded checkpoint from v1.1.3 to v2.0.7. To apply the upgrade to your files permanently, run `python -m pytorch_lightning.utilities.upgrade_checkpoint --file ../../../../../../../home/sam/.cache/torch/pyannote/models--pyannote--segmentation/snapshots/059e96f964841d40f1a5e755bb7223f76666bba4/pytorch_model.bin`\n"
     ]
    },
    {
     "name": "stdout",
     "output_type": "stream",
     "text": [
      "Model was trained with pyannote.audio 0.0.1, yours is 2.1.1. Bad things might happen unless you revert pyannote.audio to 0.x.\n",
      "Model was trained with torch 1.7.1, yours is 2.0.1+cu117. Bad things might happen unless you revert torch to 1.x.\n"
     ]
    }
   ],
   "source": [
    "import sys\n",
    "sys.path.append(\"..\")\n",
    "\n",
    "from pyannote.audio import Pipeline\n",
    "\n",
    "test_file = \"raw.wav\"\n",
    "pipeline = Pipeline.from_pretrained(\"pyannote/overlapped-speech-detection\",\n",
    "                                    use_auth_token=\"HUGGINGFACE_ACCESS_TOKEN\")\n",
    "output = pipeline(test_file)\n"
   ]
  },
  {
   "cell_type": "code",
   "execution_count": 7,
   "metadata": {},
   "outputs": [
    {
     "name": "stdout",
     "output_type": "stream",
     "text": [
      "Overlapping speakers: speech.start = 945.59s, to speech.end = 945.84s\n",
      "Overlapping speakers: speech.start = 946.34s, to speech.end = 946.77s\n",
      "Overlapping speakers: speech.start = 1204.63s, to speech.end = 1204.89s\n",
      "Overlapping speakers: speech.start = 1274.31s, to speech.end = 1275.84s\n",
      "Overlapping speakers: speech.start = 1318.28s, to speech.end = 1320.45s\n",
      "Overlapping speakers: speech.start = 1563.39s, to speech.end = 1563.88s\n"
     ]
    }
   ],
   "source": [
    "for speech in output.get_timeline().support():\n",
    "    print(f\"Overlapping speakers: {speech.start = :.2f}s, to {speech.end = :.2f}s\")"
   ]
  }
 ],
 "metadata": {
  "kernelspec": {
   "display_name": "pyannote-audio",
   "language": "python",
   "name": "python3"
  },
  "language_info": {
   "codemirror_mode": {
    "name": "ipython",
    "version": 3
   },
   "file_extension": ".py",
   "mimetype": "text/x-python",
   "name": "python",
   "nbconvert_exporter": "python",
   "pygments_lexer": "ipython3",
   "version": "3.8.17"
  },
  "orig_nbformat": 4
 },
 "nbformat": 4,
 "nbformat_minor": 2
}
